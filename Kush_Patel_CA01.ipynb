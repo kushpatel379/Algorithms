{
 "cells": [
  {
   "cell_type": "code",
   "execution_count": 2,
   "id": "e188bdde",
   "metadata": {},
   "outputs": [
    {
     "name": "stdout",
     "output_type": "stream",
     "text": [
      "[[0, 1, 1, 0], [1, 0, 0, 0], [1, 1, 0, 1], [0, 0, 1, 1]]\n"
     ]
    }
   ],
   "source": [
    "Map = [             #2d array to make the map\n",
    "    [0,1,1,0],\n",
    "    [1,0,0,0],\n",
    "    [1,1,0,1],\n",
    "    [0,0,1,1]\n",
    "]\n",
    "\n",
    "print(Map)                           #prints the map\n",
    "\n",
    "def CC(m, n, Map):                       #this function finds the best possible value\n",
    "    max_coins = []                         #array to store the max coins\n",
    "    for i in range(len(Map)):              #these for loops go through the rows and columns\n",
    "\n",
    "        for j in range(len(Map[i])):       \n",
    "\n",
    "            #if Map[i,j] = perpendicular:              #followed the same algorithm as given in the slides, wasnt sure \n",
    "                #v = Map[i,j]                           how to implement this line from the slides\n",
    "        \n",
    "            if 1 <= i <= row and 1 <= j <= column:       #these if statements check the if there is a coin and in the cell\n",
    "                v = max(CC(i + 1, j, Map), CC(i,j + 1, Map))+ Map [i][j]     #either in the cell east, south, or southwest\n",
    "                max_coins = max_coins[i+1][j]\n",
    "                \n",
    "            elif i == 0 and 1 <= j <= column:\n",
    "                v = 0\n",
    "                max_coins = max_coins[i][j+1]                      #max_coins is added into its own array\n",
    "                \n",
    "            elif j == 0 and 1 <= i <= row:\n",
    "                v = 0\n",
    "                max_coins = max_coins [i+1][j]\n",
    "                \n",
    "            #Map [i,j] = v\n",
    "            max_coins[i].append(Map[i][j])\n",
    "            \n",
    "    return max_coins\n",
    "                \n",
    "def best_path(row, column, Map):       #this function finds the best path of the robot\n",
    "    path = []                            #path array\n",
    "    \n",
    "    i = row\n",
    "    j = column\n",
    "    \n",
    "    if Map[i + 1, j] > Map[i, j + 1]:\n",
    "        path.append(i+1,j)                   #path came from above, move south, and add that path to the array\n",
    "        \n",
    "    if Map[i + 1, j] < Map[i, j + 1]:\n",
    "        path.append(i, j + 1)                #path came from left, move east, appends the path to the array\n",
    "    \n",
    "    if Map[i + 1, j] == Map[i, j + 1]:\n",
    "        path.append(i + 1, j+1)              #move southwest\n",
    "        \n",
    "    return path\n",
    "\n",
    "#print(\"Max coins collected is\", CC ,\"best path is\", best_path)          #prints out the max coins and best path\n",
    "#max_coins, path = CC(m, n, Map)\n",
    "# print(max_coins)\n",
    "# print(path)\n",
    "        "
   ]
  },
  {
   "cell_type": "markdown",
   "id": "e964fbd5",
   "metadata": {},
   "source": [
    "With some lines of code commented out, my code does compile. I have commented out the last couple lines because I am getting an error with the parameter in CC, \"m is undefined\". I have essentially followed the algorithm from the slides and changed the [i+1] [j] code to account for moving south, east, and southwest."
   ]
  },
  {
   "cell_type": "code",
   "execution_count": 1,
   "id": "25995977",
   "metadata": {},
   "outputs": [
    {
     "name": "stdout",
     "output_type": "stream",
     "text": [
      "[[1, 1, 0, 1, 0, 0, 0, 1, 1, 0, 1, 1, 1, 0, 0, 1], [0, 1, 1, 0, 1, 0, 1, 0, 1, 1, 0, 0, 1, 0, 1, 0], [1, 0, 1, 0, 1, 0, 1, 0, 1, 0, 1, 0, 1, 0, 1, 0], [0, 1, 0, 1, 0, 1, 0, 1, 0, 1, 0, 1, 0, 1, 0, 1], [1, 1, 1, 0, 0, 0, 1, 1, 1, 0, 0, 0, 1, 1, 1, 0], [0, 1, 0, 0, 0, 1, 1, 1, 0, 1, 1, 1, 0, 0, 0, 1], [0, 0, 1, 1, 0, 0, 1, 1, 0, 0, 1, 1, 0, 0, 1, 1], [1, 1, 0, 0, 1, 1, 0, 0, 1, 1, 0, 0, 1, 1, 0, 0]]\n"
     ]
    }
   ],
   "source": [
    "Map = [             #2d array to make the map\n",
    "    [1,1,0,1,0,0,0,1,1,0,1,1,1,0,0,1],\n",
    "    [0,1,1,0,1,0,1,0,1,1,0,0,1,0,1,0],\n",
    "    [1,0,1,0,1,0,1,0,1,0,1,0,1,0,1,0],\n",
    "    [0,1,0,1,0,1,0,1,0,1,0,1,0,1,0,1],\n",
    "    [1,1,1,0,0,0,1,1,1,0,0,0,1,1,1,0],\n",
    "    [0,1,0,0,0,1,1,1,0,1,1,1,0,0,0,1],\n",
    "    [0,0,1,1,0,0,1,1,0,0,1,1,0,0,1,1],\n",
    "    [1,1,0,0,1,1,0,0,1,1,0,0,1,1,0,0]\n",
    "]\n",
    "\n",
    "print(Map)                           #prints the map\n",
    "\n",
    "def CC(m, n, Map):                       #this function finds the best possible value\n",
    "    max_coins = []                         #array to store the max coins\n",
    "    for i in range(len(Map)):              #these for loops go through the rows and columns\n",
    "\n",
    "        for j in range(len(Map[i])):       \n",
    "\n",
    "            #if Map[i,j] = perpendicular:              #followed the same algorithm as given in the slides, wasnt sure \n",
    "                #v = Map[i,j]                           how to implement this line from the slides\n",
    "        \n",
    "            if 1 <= i <= row and 1 <= j <= column:       #these if statements check the if there is a coin and in the cell\n",
    "                v = max(CC(i + 1, j, Map), CC(i,j + 1, Map))+ Map [i][j]     #either in the cell east, south, or southwest\n",
    "                max_coins = max_coins[i+1][j]\n",
    "                \n",
    "            elif i == 0 and 1 <= j <= column:\n",
    "                v = 0\n",
    "                max_coins = max_coins[i][j+1]                       #max_coins is added into its own array\n",
    "                \n",
    "            elif j == 0 and 1 <= i <= row:\n",
    "                v = 0\n",
    "                max_coins = max_coins [i+1][j]\n",
    "                \n",
    "            #Map [i,j] = v\n",
    "            max_coins[i].append(Map[i][j])\n",
    "            \n",
    "    return max_coins\n",
    "                \n",
    "def best_path(row, column, Map):       #this function finds the best path of the robot\n",
    "    path = []                            #path array\n",
    "    \n",
    "    i = row\n",
    "    j = column\n",
    "    \n",
    "    if Map[i + 1, j] > Map[i, j + 1]:\n",
    "        path.append(i+1,j)                   #path came from above, move south, and add that path to the array\n",
    "        \n",
    "    if Map[i + 1, j] < Map[i, j + 1]:\n",
    "        path.append(i, j + 1)                #path came from left, move east, appends the path to the array\n",
    "    \n",
    "    if Map[i + 1, j] == Map[i, j + 1]:\n",
    "        path.append(i + 1, j+1)              #move southwest\n",
    "        \n",
    "    return path\n",
    "\n",
    "#print(\"Max coins collected is\", CC ,\"best path is\", best_path)          #prints out the max coins and best path\n",
    "#max_coins, path = CC(m, n, Map)\n",
    "# print(max_coins)\n",
    "# print(path)\n",
    "        "
   ]
  },
  {
   "cell_type": "markdown",
   "id": "190f932a",
   "metadata": {},
   "source": [
    "The code is above for Problem 2. I have changed the map to problem 2. I also did this without the code since it didnt work. The path I got started from the 1st column in the 1st row. Path: E,S,SW,E,E,SW,SW,E,E,SW,SW,S which collects 11 coins."
   ]
  }
 ],
 "metadata": {
  "kernelspec": {
   "display_name": "Algorithms",
   "language": "python",
   "name": "algorithms"
  },
  "language_info": {
   "codemirror_mode": {
    "name": "ipython",
    "version": 3
   },
   "file_extension": ".py",
   "mimetype": "text/x-python",
   "name": "python",
   "nbconvert_exporter": "python",
   "pygments_lexer": "ipython3",
   "version": "3.9.15"
  }
 },
 "nbformat": 4,
 "nbformat_minor": 5
}
