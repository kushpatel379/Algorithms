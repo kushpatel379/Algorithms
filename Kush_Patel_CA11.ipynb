{
 "cells": [
  {
   "cell_type": "markdown",
   "id": "29fed2e0",
   "metadata": {},
   "source": [
    "1. Devise an algorithm, as efficient as you can, to determine if such a Hamiltonian Circuit exists in a given graph. "
   ]
  },
  {
   "cell_type": "code",
   "execution_count": 26,
   "id": "903fddb8",
   "metadata": {},
   "outputs": [],
   "source": [
    "# used the logic behing the CA08 of the Graph class to implement this\n",
    "def hamiltonian_circuit(graph):\n",
    "    circuit_path = [0]                 #initialize the start to call the backtrack function again\n",
    "    \n",
    "    visited = [False] * len(graph)              #initialize the list of vertices of the graph, all start off as not visited\n",
    "    \n",
    "    def exists(circuit_path):                   #back tracking is a way to find the circuit if it exists\n",
    "        if len(circuit_path) == len(graph):                    #checks if the length of the circuit path and the graph is the same\n",
    "            \n",
    "            if graph[circuit_path[0]][circuit_path[0]]:        #checks if the first and last vertex are the same, but not sure how to implement that\n",
    "                return True                                    #true if graph exists\n",
    "            else:\n",
    "                return False\n",
    "        else:\n",
    "            for i in range(len(graph)):                       #goes through the vertices of the graph\n",
    "                \n",
    "                if not visited[i]:                           #if vertex hasnt been visited\n",
    "                    circuit_path.append(i)                   #adds it to the path\n",
    "                    visited[i] = True\n",
    "                    exists(circuit_path)             #calls the backtrack function to check if it exists\n",
    "\n",
    "            return False\n",
    "    \n",
    "    \n",
    "\n",
    "    return exists(circuit_path)\n"
   ]
  },
  {
   "cell_type": "markdown",
   "id": "e3c8cd45",
   "metadata": {},
   "source": [
    "I used a backtrack method as the professor said in class, to check if the hamiltonian circuit exists. I also used the logic behing the CA08 of the Graph class to implement this.\n",
    "\n",
    "Goes through the vertices of the graph to check if its been visited, if it has than it will return true. Not sure how to check if the first and last vertex are the same. Need to do this since its a circuit. The last vertice should be the length of the graph and the first vertices should be zero. "
   ]
  },
  {
   "cell_type": "markdown",
   "id": "28d3ca9c",
   "metadata": {},
   "source": [
    "2. Implement your algorithm in Python and generate at random an n-node graph with edge probability of 1/2. You may generate this graph as follows: (1) Index all pairs of nodes. There are N = n(n-1)/2 of such pairs. (2) Generage a random binary string of length N. Then the i-th pair of nodes are connected iff the i-th bit in the sequence is 1."
   ]
  },
  {
   "cell_type": "code",
   "execution_count": 27,
   "id": "b74b5904",
   "metadata": {},
   "outputs": [],
   "source": [
    "import random\n",
    "\n",
    "#from a previous hw\n",
    "def rand_binary(b):                    #function that generates random binary string\n",
    "    \n",
    "    binary_string = \"\"                     #empty string\n",
    " \n",
    "    for i in range(b):                     #for loop runs the number of the pairs\n",
    "         \n",
    "        bin = random.randint(0,1)          #either 0 or 1\n",
    "        binary_string += str(bin)          #binary string is made\n",
    "    \n",
    "    #print(\"Run: \", run)\n",
    "#     print(\"Binary String is: \", binary_string)         #commented out because it makes the output look messy\n",
    "    return binary_string\n",
    "\n",
    "# rand_binary(10)\n",
    "\n",
    "def create_graph(n):\n",
    "    N = n * (n-1) // 2               #number of pairs\n",
    "    \n",
    "    bin_string = rand_binary(N)         #function that generates random binary string\n",
    "\n",
    "    graph = [[0] * n for i in range(n)]  #creates graph depending on the size of the\n",
    "    \n",
    "    bit = 0\n",
    "    for i in range(n):                    #for loops goes through the edges\n",
    "        for j in range(bit + 1, n):         #need to add i + 1 so the the new bit value is check with the binrary string\n",
    "            if bin_string[bit] == '1':   \n",
    "                graph[i][j] = 1           #this connected the nodes if the sequence is 1, compared in the above if statement\n",
    "                graph[j][i] = 1           #needs both of these because its a circuit, not a line, where the first code would be sufficient \n",
    "    return graph"
   ]
  },
  {
   "cell_type": "markdown",
   "id": "f37b5a04",
   "metadata": {},
   "source": [
    "I create a separate function to generate the random binary string. This function was also used in another homework. \n",
    "The create_graph function creates the pairs which are inputted into the rand_binary function. Than i check the graph if the edges are connected.\n",
    "\n",
    "I have commented out \"print(\"Binary String is: \", binary_string)\" to make the output cleaner."
   ]
  },
  {
   "cell_type": "markdown",
   "id": "a0073151",
   "metadata": {},
   "source": [
    "3. Run this experiment, starting from n = 5 to n = 15 with an increment of 1. For each run, record the running time and the result (if yes, print the Hamiltonian Circuit as a witness). For each n, run the experiment 5 times. What are the minimum, average, and maximum running time? "
   ]
  },
  {
   "cell_type": "code",
   "execution_count": 30,
   "id": "1ed62e09",
   "metadata": {},
   "outputs": [
    {
     "name": "stdout",
     "output_type": "stream",
     "text": [
      "Experiment: 5\n",
      "Each time: [0.0, 0.0, 0.0, 0.0, 0.0] seconds\n",
      "Minimum time: 0.0000000 seconds\n",
      "Maximum time: 0.0000000 seconds\n",
      "Average time: 0.0000000 seconds\n",
      "Experiment: 6\n",
      "Each time: [0.0, 0.0, 0.0, 0.0, 0.0, 0.0, 0.0, 0.0, 0.0, 0.0] seconds\n",
      "Minimum time: 0.0000000 seconds\n",
      "Maximum time: 0.0000000 seconds\n",
      "Average time: 0.0000000 seconds\n",
      "Experiment: 7\n",
      "Each time: [0.0, 0.0, 0.0, 0.0, 0.0, 0.0, 0.0, 0.0, 0.0, 0.0, 0.0, 0.0, 0.0, 0.0, 0.0] seconds\n",
      "Minimum time: 0.0000000 seconds\n",
      "Maximum time: 0.0000000 seconds\n",
      "Average time: 0.0000000 seconds\n",
      "Experiment: 8\n",
      "Each time: [0.0, 0.0, 0.0, 0.0, 0.0, 0.0, 0.0, 0.0, 0.0, 0.0, 0.0, 0.0, 0.0, 0.0, 0.0, 0.0, 0.0, 0.0, 0.0, 0.0] seconds\n",
      "Minimum time: 0.0000000 seconds\n",
      "Maximum time: 0.0000000 seconds\n",
      "Average time: 0.0000000 seconds\n",
      "Experiment: 9\n",
      "Each time: [0.0, 0.0, 0.0, 0.0, 0.0, 0.0, 0.0, 0.0, 0.0, 0.0, 0.0, 0.0, 0.0, 0.0, 0.0, 0.0, 0.0, 0.0, 0.0, 0.0, 0.0, 0.0, 0.0, 0.0, 0.0] seconds\n",
      "Minimum time: 0.0000000 seconds\n",
      "Maximum time: 0.0000000 seconds\n",
      "Average time: 0.0000000 seconds\n",
      "Experiment: 10\n",
      "Each time: [0.0, 0.0, 0.0, 0.0, 0.0, 0.0, 0.0, 0.0, 0.0, 0.0, 0.0, 0.0, 0.0, 0.0, 0.0, 0.0, 0.0, 0.0, 0.0, 0.0, 0.0, 0.0, 0.0, 0.0, 0.0, 0.0, 0.0, 0.0014591217041015625, 0.0, 0.0] seconds\n",
      "Minimum time: 0.0000000 seconds\n",
      "Maximum time: 0.0014591 seconds\n",
      "Average time: 0.0002918 seconds\n",
      "Experiment: 11\n",
      "Each time: [0.0, 0.0, 0.0, 0.0, 0.0, 0.0, 0.0, 0.0, 0.0, 0.0, 0.0, 0.0, 0.0, 0.0, 0.0, 0.0, 0.0, 0.0, 0.0, 0.0, 0.0, 0.0, 0.0, 0.0, 0.0, 0.0, 0.0, 0.0014591217041015625, 0.0, 0.0, 0.0, 0.0, 0.0, 0.0, 0.0] seconds\n",
      "Minimum time: 0.0000000 seconds\n",
      "Maximum time: 0.0014591 seconds\n",
      "Average time: 0.0002918 seconds\n",
      "Experiment: 12\n",
      "Each time: [0.0, 0.0, 0.0, 0.0, 0.0, 0.0, 0.0, 0.0, 0.0, 0.0, 0.0, 0.0, 0.0, 0.0, 0.0, 0.0, 0.0, 0.0, 0.0, 0.0, 0.0, 0.0, 0.0, 0.0, 0.0, 0.0, 0.0, 0.0014591217041015625, 0.0, 0.0, 0.0, 0.0, 0.0, 0.0, 0.0, 0.0, 0.0, 0.0, 0.0, 0.0] seconds\n",
      "Minimum time: 0.0000000 seconds\n",
      "Maximum time: 0.0014591 seconds\n",
      "Average time: 0.0002918 seconds\n",
      "Experiment: 13\n",
      "Each time: [0.0, 0.0, 0.0, 0.0, 0.0, 0.0, 0.0, 0.0, 0.0, 0.0, 0.0, 0.0, 0.0, 0.0, 0.0, 0.0, 0.0, 0.0, 0.0, 0.0, 0.0, 0.0, 0.0, 0.0, 0.0, 0.0, 0.0, 0.0014591217041015625, 0.0, 0.0, 0.0, 0.0, 0.0, 0.0, 0.0, 0.0, 0.0, 0.0, 0.0, 0.0, 0.0, 0.0, 0.0, 0.0, 0.0] seconds\n",
      "Minimum time: 0.0000000 seconds\n",
      "Maximum time: 0.0014591 seconds\n",
      "Average time: 0.0002918 seconds\n",
      "Experiment: 14\n",
      "Each time: [0.0, 0.0, 0.0, 0.0, 0.0, 0.0, 0.0, 0.0, 0.0, 0.0, 0.0, 0.0, 0.0, 0.0, 0.0, 0.0, 0.0, 0.0, 0.0, 0.0, 0.0, 0.0, 0.0, 0.0, 0.0, 0.0, 0.0, 0.0014591217041015625, 0.0, 0.0, 0.0, 0.0, 0.0, 0.0, 0.0, 0.0, 0.0, 0.0, 0.0, 0.0, 0.0, 0.0, 0.0, 0.0, 0.0, 0.0, 0.0, 0.0, 0.0, 0.0] seconds\n",
      "Minimum time: 0.0000000 seconds\n",
      "Maximum time: 0.0014591 seconds\n",
      "Average time: 0.0002918 seconds\n",
      "Experiment: 15\n",
      "Each time: [0.0, 0.0, 0.0, 0.0, 0.0, 0.0, 0.0, 0.0, 0.0, 0.0, 0.0, 0.0, 0.0, 0.0, 0.0, 0.0, 0.0, 0.0, 0.0, 0.0, 0.0, 0.0, 0.0, 0.0, 0.0, 0.0, 0.0, 0.0014591217041015625, 0.0, 0.0, 0.0, 0.0, 0.0, 0.0, 0.0, 0.0, 0.0, 0.0, 0.0, 0.0, 0.0, 0.0, 0.0, 0.0, 0.0, 0.0, 0.0, 0.0, 0.0, 0.0, 0.0, 0.0, 0.0, 0.0, 0.0] seconds\n",
      "Minimum time: 0.0000000 seconds\n",
      "Maximum time: 0.0014591 seconds\n",
      "Average time: 0.0002918 seconds\n"
     ]
    }
   ],
   "source": [
    "import time\n",
    "\n",
    "graph_time = []                                              #array for individual graphs\n",
    "minimum = 0                                                  #initializing the values\n",
    "maximum = 0\n",
    "total = 0\n",
    "\n",
    "for n in range(5, 16):                                        #running experiment from 5 to 15\n",
    "    print(f\"Experiment: {n}\")\n",
    "    \n",
    "    for i in range(5):                                         #each experiment run 5 times\n",
    "        node = create_graph(n)                                  #create_graph function takes n as paramter and sets it to node\n",
    "        start_time_graph = time.time()                          #did time code as from hw CA7\n",
    "        result = hamiltonian_circuit(node)\n",
    "        end_time_graph = time.time()\n",
    "        \n",
    "        run_time_graph = end_time_graph - start_time_graph\n",
    "        graph_time.append(run_time_graph)                       #appends the individual times into an array\n",
    "        \n",
    "        minimum = min(minimum, run_time_graph)                  #finds the minimum and maximum for each experiment\n",
    "        maximum = max(maximum, run_time_graph)\n",
    "        total += run_time_graph\n",
    "        \n",
    "        \n",
    "        if result:\n",
    "            print(f\" Hamiltonian Circuit: {result}\")           #prints the circuit if there is one\n",
    "        \n",
    "        \n",
    "        \n",
    "    average = total / 5                                         #average of the times\n",
    "    print(f\"Each time: {graph_time} seconds\")                   #individual times\n",
    "    print(f\"Minimum time: {minimum:.7f} seconds\")               #prints out the times with 7 decimal places\n",
    "    print(f\"Maximum time: {maximum:.7f} seconds\")\n",
    "    print(f\"Average time: {average:.7f} seconds\")\n",
    "    \n",
    "#     print(f\"Binrary string: {binary_string}\")"
   ]
  },
  {
   "cell_type": "markdown",
   "id": "adad7d23",
   "metadata": {},
   "source": [
    "The create graph function is assigned to another variable which is called in the hamiltonian fucntion. Than i did the time code as in CA7 and found the min/max/average of the times. \n",
    "\n",
    "But i am not sure if its correct. When times are printed, sometimes they are all 0, sometimes they are either the same time values for each experiment, or sometimes a few times are are different. Not sure if that is supposed to happen. The hamiltonian circuit returns true and sometimes doesnt even when the times are the exact. "
   ]
  },
  {
   "cell_type": "code",
   "execution_count": null,
   "id": "be390a8d",
   "metadata": {},
   "outputs": [],
   "source": []
  }
 ],
 "metadata": {
  "kernelspec": {
   "display_name": "Algorithms",
   "language": "python",
   "name": "algorithms"
  },
  "language_info": {
   "codemirror_mode": {
    "name": "ipython",
    "version": 3
   },
   "file_extension": ".py",
   "mimetype": "text/x-python",
   "name": "python",
   "nbconvert_exporter": "python",
   "pygments_lexer": "ipython3",
   "version": "3.9.15"
  }
 },
 "nbformat": 4,
 "nbformat_minor": 5
}
