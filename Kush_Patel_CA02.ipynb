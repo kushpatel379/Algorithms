{
 "cells": [
  {
   "cell_type": "code",
   "execution_count": 1,
   "id": "d950f5ee",
   "metadata": {},
   "outputs": [],
   "source": [
    "def bottom_up_lcs_path(X, Y):            #from given code\n",
    "    # find the length of the strings\n",
    "    m = len(X)                                 \n",
    "    n = len(Y)\n",
    " \n",
    "    # declaring the array for storing the dp values\n",
    "    L = [[None]*(n + 1) for i in range(m + 1)]\n",
    "    P = [[0]*(n + 1) for i in range(m + 1)]\n",
    "    for i in range(m + 1):\n",
    "        L[i][0] = 0\n",
    "    for j in range(n + 1):\n",
    "        L[0][j] = 0\n",
    "    for i in range(1, m + 1):\n",
    "        for j in range(1, n + 1):\n",
    "            if X[i-1] == Y[j-1]:         \n",
    "                L[i][j] = L[i-1][j-1]+1             #moves path upleft\n",
    "                P[i][j] = \"upleft\"\n",
    "            elif L[i-1][j] >= L[i][j-1]:            #moves path up\n",
    "                L[i][j] = L[i-1][j]                   \n",
    "                P[i][j] = \"up\"\n",
    "            else:\n",
    "                L[i][j] = L[i][j-1]                 #moves path left\n",
    "                P[i][j] = \"left\"\n",
    "                \n",
    "    return L[m][n], P\n",
    "\n",
    "\n",
    "def bottom_up_rcs_path(X, Y):            #from given code, and given explantion on BB, separate function to calculate \n",
    "    # find the length of the strings                 \n",
    "    m = len(X)                                 \n",
    "    n = len(Y)\n",
    " \n",
    "    # declaring the array for storing the dp values\n",
    "    L = [[None]*(n + 1) for i in range(m + 1)]\n",
    "    P = [[0]*(n + 1) for i in range(m + 1)]\n",
    "    k = len(L)                                      #set to len of L to get last symbol in L\n",
    "    \n",
    "    for i in range(m + 1):\n",
    "        L[i][k-1] = 0\n",
    "    for j in range(n + 1):\n",
    "        L[k-1][j] = 0                               #changed it to L[k-1] as given in the explantion\n",
    "    for i in range(1, m + 1):\n",
    "        for j in range(1, n + 1):\n",
    "            if X(L[k-1]) == Y(L[k-1]):         \n",
    "                L[i][j] = L[i-1][j-1]+1     \n",
    "                #L[i][j] = L[i-1][j+1]+1             #tried to make it up upright but didnt fix list out of range error\n",
    "                P[i][j] = \"upleft\"\n",
    "            elif  X(P[k-1]) <= X(L[k-1]):            #added in the conditions as said in the explantion, separate fcuntion for each case\n",
    "                L[i][j] = L[i-1][j]                  #kept this the same since, up its still moving up \n",
    "                P[i][j] = \"up\"\n",
    "            elif Y(H[k-1]) <= Y(L[k-1]):             #added in the conditions as said in the explantion\n",
    "                L[i][j] = L[i][j-1]\n",
    "                #L[i][j] = L[i][j+1]                 #tried to make it move right but same error\n",
    "                P[i][j] = \"left\"\n",
    "                \n",
    "    return L[m][n], P\n",
    "\n"
   ]
  },
  {
   "cell_type": "markdown",
   "id": "f976f06b",
   "metadata": {},
   "source": [
    "I initially tried to start from the bottom left corner of the grid and change the directions to upright and right. But i wasnt able to do that and kept on getting an error saying \"index out of range\". Which means the right and upright was causing the starting point to go out of bounds which also means i hadnt changed the starting point to the bottom left. This was before the professor gave an explanation. I than implemented the changes from the explantion but kept on getting \"index out of range error\". I commented out the position movement code."
   ]
  },
  {
   "cell_type": "code",
   "execution_count": 2,
   "id": "b980ff3b",
   "metadata": {},
   "outputs": [],
   "source": [
    "# Driver program to test the above function\n",
    "X = \"ABCD \"\n",
    "Y = \"ABDC\"\n",
    "\n",
    "# Xlength=len(X)         #calculate length of the string\n",
    "# reverseX=X[Xlength::-1] #slicing/reversing the string \n",
    "#print (reverseX)\n",
    "\n",
    "\n",
    "# Ylength=len(Y)             #calculate length of the string\n",
    "# reverseY=Y[Ylength::-1]     #slicing/reversing the string\n",
    "#print (reverseY)\n",
    "\n",
    "\n",
    "#print(\"Length of LCS is \", bottom_up_lcs_path(X, Y)[0])\n",
    "#print(\"Path of LCS is \", bottom_up_lcs_path(X, Y)[1])"
   ]
  },
  {
   "cell_type": "markdown",
   "id": "52ab2f23",
   "metadata": {},
   "source": [
    "This is the reverse strign method it origianally had done but then removed it cause of the modification of the homework."
   ]
  },
  {
   "cell_type": "code",
   "execution_count": 3,
   "id": "b85f3568",
   "metadata": {},
   "outputs": [],
   "source": [
    "def print_lcs(P, X, i, j):              #from given code\n",
    "    if i == 0 or j == 0:\n",
    "        print(\"Rightmost is: \")\n",
    "        return\n",
    "    if P[i][j] == \"upleft\":\n",
    "        print_lcs(P, X, i - 1, j - 1)\n",
    "        print(X[i-1])\n",
    "    elif P[i][j] == \"up\":\n",
    "        print_lcs(P, X, i - 1, j)\n",
    "        \n",
    "    else:\n",
    "        print_lcs(P, X, i, j - 1)\n",
    "        \n",
    "        \n",
    "def print_rcs(P, X, i, j):             #from given code i replaced the X with slicedX\n",
    "    if i == 0 or j == 0:\n",
    "        print(\"Leftmost is: \")\n",
    "        return\n",
    "    if P[i][j] == \"upleft\":\n",
    "        print_rcs(P, X, i - 1, j - 1)\n",
    "        print(X(L[k-1]))\n",
    "    elif P[i][j] == \"up\":\n",
    "        print_rcs(P, X(L[k-1]), i - 1, j)        #replaced X with X(L[k-1]) to implement the new change\n",
    "        \n",
    "    else:\n",
    "        print_rcs(P, X(L[k-1]), i, j - 1)         #replaced X with X(L[k-1]) to implement the new change\n"
   ]
  },
  {
   "cell_type": "code",
   "execution_count": 4,
   "id": "9bab5613",
   "metadata": {},
   "outputs": [
    {
     "name": "stdout",
     "output_type": "stream",
     "text": [
      "Rightmost is: \n",
      "A\n",
      "B\n",
      "C\n"
     ]
    },
    {
     "ename": "IndexError",
     "evalue": "list assignment index out of range",
     "output_type": "error",
     "traceback": [
      "\u001b[1;31m---------------------------------------------------------------------------\u001b[0m",
      "\u001b[1;31mIndexError\u001b[0m                                Traceback (most recent call last)",
      "Cell \u001b[1;32mIn[4], line 7\u001b[0m\n\u001b[0;32m      3\u001b[0m n \u001b[38;5;241m=\u001b[39m \u001b[38;5;28mlen\u001b[39m(Y)\n\u001b[0;32m      4\u001b[0m print_lcs(P, X, m, n) \n\u001b[1;32m----> 7\u001b[0m P \u001b[38;5;241m=\u001b[39m \u001b[43mbottom_up_rcs_path\u001b[49m\u001b[43m(\u001b[49m\u001b[43mX\u001b[49m\u001b[43m,\u001b[49m\u001b[43m \u001b[49m\u001b[43mY\u001b[49m\u001b[43m)\u001b[49m[\u001b[38;5;241m1\u001b[39m]         \u001b[38;5;66;03m#from given code but i replaced X with slicedX\u001b[39;00m\n\u001b[0;32m      8\u001b[0m m \u001b[38;5;241m=\u001b[39m \u001b[38;5;28mlen\u001b[39m(X)\n\u001b[0;32m      9\u001b[0m n \u001b[38;5;241m=\u001b[39m \u001b[38;5;28mlen\u001b[39m(Y)\n",
      "Cell \u001b[1;32mIn[1], line 39\u001b[0m, in \u001b[0;36mbottom_up_rcs_path\u001b[1;34m(X, Y)\u001b[0m\n\u001b[0;32m     36\u001b[0m k \u001b[38;5;241m=\u001b[39m \u001b[38;5;28mlen\u001b[39m(L)                                      \u001b[38;5;66;03m#set to len of L to get last symbol in L\u001b[39;00m\n\u001b[0;32m     38\u001b[0m \u001b[38;5;28;01mfor\u001b[39;00m i \u001b[38;5;129;01min\u001b[39;00m \u001b[38;5;28mrange\u001b[39m(m \u001b[38;5;241m+\u001b[39m \u001b[38;5;241m1\u001b[39m):\n\u001b[1;32m---> 39\u001b[0m     L[i][k\u001b[38;5;241m-\u001b[39m\u001b[38;5;241m1\u001b[39m] \u001b[38;5;241m=\u001b[39m \u001b[38;5;241m0\u001b[39m\n\u001b[0;32m     40\u001b[0m \u001b[38;5;28;01mfor\u001b[39;00m j \u001b[38;5;129;01min\u001b[39;00m \u001b[38;5;28mrange\u001b[39m(n \u001b[38;5;241m+\u001b[39m \u001b[38;5;241m1\u001b[39m):\n\u001b[0;32m     41\u001b[0m     L[k\u001b[38;5;241m-\u001b[39m\u001b[38;5;241m1\u001b[39m][j] \u001b[38;5;241m=\u001b[39m \u001b[38;5;241m0\u001b[39m                               \u001b[38;5;66;03m#changed it to L[k-1] as given in the explantion\u001b[39;00m\n",
      "\u001b[1;31mIndexError\u001b[0m: list assignment index out of range"
     ]
    }
   ],
   "source": [
    "P = bottom_up_lcs_path(X, Y)[1]               #from given code\n",
    "m = len(X)\n",
    "n = len(Y)\n",
    "print_lcs(P, X, m, n) \n",
    "\n",
    "\n",
    "P = bottom_up_rcs_path(X, Y)[1]         #from given code but i replaced X with slicedX\n",
    "m = len(X)\n",
    "n = len(Y)\n",
    "print_rcs(P, X(L[k-1]), m, n)           #replaced X with X(L[k-1]) to implement the new change"
   ]
  },
  {
   "cell_type": "markdown",
   "id": "74723948",
   "metadata": {},
   "source": [
    "The rightmost answer is a palindrome which is why the answer for leftmost is also the same. I also tried with other string and I believe that got the correct answers. I double checked them by doing them by hand.\n",
    "Some sample strings i used were: X = ABCD and Y = ABDC, Rightmost: ABC and Leftmost: DBA/ABD\n",
    "X = ABCBDAB and Y = BDCABA, Rightmost: BCBA and Leftmost: BADB\n",
    "* This is what i got with the reverse string method not what i have right now* With what i have right now with the new modification i get the list assignment index out of range error. I know that the code has to compile but than i would have to revert the code back to the original with only the functions for rightmost the exact same as leftmost. So i kept the modifcation i made without it compiling.\n"
   ]
  }
 ],
 "metadata": {
  "kernelspec": {
   "display_name": "Algorithms",
   "language": "python",
   "name": "algorithms"
  },
  "language_info": {
   "codemirror_mode": {
    "name": "ipython",
    "version": 3
   },
   "file_extension": ".py",
   "mimetype": "text/x-python",
   "name": "python",
   "nbconvert_exporter": "python",
   "pygments_lexer": "ipython3",
   "version": "3.9.15"
  }
 },
 "nbformat": 4,
 "nbformat_minor": 5
}
