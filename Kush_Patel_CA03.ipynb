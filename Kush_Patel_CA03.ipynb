{
 "cells": [
  {
   "cell_type": "code",
   "execution_count": 4,
   "id": "a3b24f67",
   "metadata": {},
   "outputs": [
    {
     "data": {
      "image/png": "[encoded data removed]",
      "text/plain": [
       "<Figure size 640x480 with 1 Axes>"
      ]
     },
     "metadata": {},
     "output_type": "display_data"
    },
    {
     "name": "stdout",
     "output_type": "stream",
     "text": [
      "[(14, 15), (14, 17), (13, 14), (11, 13), (9, 10), (15, 18), (21, 23), (16, 17), (10, 13), (13, 15), (16, 18), (11, 12), (15, 16), (9, 11), (10, 11), (15, 18), (21, 23), (8, 9), (18, 21), (21, 24), (8, 9), (8, 9), (17, 19), (11, 12), (12, 14), (18, 19), (19, 22), (9, 11), (17, 18), (17, 20), (16, 18), (10, 13), (13, 15), (21, 24), (16, 18), (10, 13), (17, 18), (17, 20), (17, 19), (11, 14), (17, 20), (13, 14), (12, 15), (10, 13), (14, 17), (11, 14), (18, 20), (16, 18), (14, 17), (17, 18), (13, 14), (21, 23), (9, 11), (8, 11), (11, 13), (10, 11), (19, 20), (11, 12), (11, 13), (14, 15), (15, 18), (21, 23), (19, 20), (11, 13), (16, 17), (17, 19), (16, 18), (17, 20), (18, 21), (14, 15), (19, 22), (13, 15), (8, 10), (8, 11), (20, 23), (21, 24), (12, 15), (12, 15), (19, 21)]\n"
     ]
    }
   ],
   "source": [
    "import random\n",
    "import matplotlib.pyplot as plt\n",
    "import datetime\n",
    "\n",
    "#algorithm   \n",
    "def schedule(activities):  \n",
    "    \n",
    "    activities = sorted(activities, key = lambda x: x[1]) # sort the activities by finish time, from given code which i changed the variables\n",
    "    \n",
    "    \n",
    "    Hallbusy = [activities[0]]       #list of busy halls, which are set to 0\n",
    "    Hallfree = [activities[0]]       #list of free halls, which are set to 0\n",
    "    \n",
    "    for i in activities[0]:\n",
    "        if i[0] >= activities:\n",
    "            Hallbusy[i] = i[1]       #adds activity to busy hall\n",
    "\n",
    "        if len(i[0]) == 0:\n",
    "            Hallfree[i] = i[1]       #if no halls in free list than add a hall\n",
    "\n",
    "#driver code\n",
    "def main():\n",
    "    random_activity = []                               #list of activities\n",
    "    time = list(range(8,22))                           #activities between 8am and 9:30pm\n",
    "    for i in range(1,80):                             #generates 100 random activities\n",
    "        start = random.choice(time)                    #generates random start time\n",
    "        end = start + random.choice([1,2,3])       #generates random end time between 1 to 3 hours\n",
    "        random_activity.append((start, end))           #adds it to the list\n",
    "        \n",
    "    #Hallfree.append(random_activity[0])     #adds the first activity to a free hall\n",
    "    #Hallbusy.append(Hallfree[0])            #adds the free hall to the busy hall list\n",
    "                                            \n",
    "    #print(schedule(random_activity))        #commented this out because code wont run\n",
    "    print(random_activity)\n",
    "    \n",
    "    \n",
    "\n",
    "plt.xlim([8,22])   #800 is 8am and 2130 is 9:30pm\n",
    "ax = plt.gca()\n",
    "ax.get_yaxis().set_visible(False)             #hiding y axis\n",
    "plt.show()\n",
    "\n",
    "\n",
    "main()                    #calling the main function"
   ]
  },
  {
   "cell_type": "markdown",
   "id": "90a1f5de",
   "metadata": {},
   "source": [
    "My code right now does not assign the activities to halls. When i try to implement the schedule function with random_acitvity in main(), i run into an error.So i decided to comment that out, and at least show the random times with the random activities. For the time, i decided to use military time of 8 and 22. I wasnt able to implement the actual interval graph on how to print the lines of the duration of the activities onto the graph."
   ]
  }
 ],
 "metadata": {
  "kernelspec": {
   "display_name": "Algorithms",
   "language": "python",
   "name": "algorithms"
  },
  "language_info": {
   "codemirror_mode": {
    "name": "ipython",
    "version": 3
   },
   "file_extension": ".py",
   "mimetype": "text/x-python",
   "name": "python",
   "nbconvert_exporter": "python",
   "pygments_lexer": "ipython3",
   "version": "3.9.15"
  }
 },
 "nbformat": 4,
 "nbformat_minor": 5
}
